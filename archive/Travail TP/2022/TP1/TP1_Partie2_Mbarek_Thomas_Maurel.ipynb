{
 "cells": [
  {
   "cell_type": "markdown",
   "metadata": {},
   "source": [
    "# TP 1 - Équation de la chaleur\n",
    "## Schéma explicite\n",
    "\n",
    "On résout numériquement l'équation de la chaleur sur $\\Omega:=]-L,L[$ avec conditions aux limites de Dirichlet\n",
    "\n",
    "$$ \\frac{\\partial u}{\\partial t}(x,t)-\\frac{\\partial^2 u}{\\partial x^2}(x,t) = 0,\\quad x \\in \\Omega,\\quad t \\gt 0,\\\\\n",
    "u(-L,t)=u(L,t)=0,\\quad t > 0,\\\\\n",
    "u(x,0)=u_0(x),\\quad x \\in \\Omega, $$\n",
    "\n",
    "et schéma explicite :\n",
    "\n",
    "$$ \\frac{u_j^{n+1}-u_j^n}{\\Delta t}-\\frac{u_{j+1}^n-2u_j^n+u_{j-1}^n}{\\Delta x^2} = 0. $$ "
   ]
  },
  {
   "cell_type": "code",
   "execution_count": 6,
   "metadata": {},
   "outputs": [
    {
     "ename": "MethodError",
     "evalue": "MethodError: no method matching +(::Int64, ::Vector{Float64})\nFor element-wise addition, use broadcasting with dot syntax: scalar .+ array\nClosest candidates are:\n  +(::Any, ::Any, !Matched::Any, !Matched::Any...) at operators.jl:591\n  +(::T, !Matched::T) where T<:Union{Int128, Int16, Int32, Int64, Int8, UInt128, UInt16, UInt32, UInt64, UInt8} at int.jl:87\n  +(::Union{Int16, Int32, Int64, Int8}, !Matched::BigInt) at gmp.jl:537\n  ...",
     "output_type": "error",
     "traceback": [
      "MethodError: no method matching +(::Int64, ::Vector{Float64})\n",
      "For element-wise addition, use broadcasting with dot syntax: scalar .+ array\n",
      "Closest candidates are:\n",
      "  +(::Any, ::Any, !Matched::Any, !Matched::Any...) at operators.jl:591\n",
      "  +(::T, !Matched::T) where T<:Union{Int128, Int16, Int32, Int64, Int8, UInt128, UInt16, UInt32, UInt64, UInt8} at int.jl:87\n",
      "  +(::Union{Int16, Int32, Int64, Int8}, !Matched::BigInt) at gmp.jl:537\n",
      "  ...\n",
      "\n",
      "Stacktrace:\n",
      " [1] top-level scope\n",
      "   @ ~/Documents/20 - TEACHING/EDP-MAM4/Travail TP/2022/TP1/TP1_Partie2_Mbarek_Thomas_Maurel.ipynb:17"
     ]
    }
   ],
   "source": [
    "using LinearAlgebra, Plots\n",
    "# Parameters\n",
    "L = 10.0                               # domain half size\n",
    "Nx = 10000                             # grid size (space)\n",
    "Δx = 2*L/Nx                           # step size (space)                            # CFL\n",
    "θ = 3/4\n",
    "Δt = 0.01                         # step size (time)\n",
    "Nt = 200                               # grid size (time)\n",
    "x = range(-L, L, length=Nx+1)          # grid (space)\n",
    "u0 = max.(0, 1 .- x.^2)                # initial condition\n",
    "σ = Δt/(Δx^2)\n",
    "\n",
    "# Explicit scheme\n",
    "u = u0\n",
    "u_plot = plot(x, u, xlabel=\"x\", ylabel=\"u\", color=:green, legend=false)\n",
    "\n",
    "A = Tridiagonal(-σ*(1-θ)*ones(Nx),1+2*σ*(1-θ)*ones(Nx+1),-σ*(1-θ)*ones(Nx))\n",
    "B = Tridiagonal(θ*σ*ones(Nx), 1 .- 2*σ*θ*ones(Nx+1), θ*σ*ones(Nx))\n",
    "\n",
    "for n = 1:Nt\n",
    "    u = A\\(B*u)\n",
    "    if mod(n, Nt/20) == 0\n",
    "        plot!(u_plot, x, u, xlabel=\"x\", ylabel=\"u\", color=:black, legend=false)\n",
    "    end\n",
    "end\n",
    "display(plot(u_plot, size=(700, 350)))"
   ]
  },
  {
   "cell_type": "code",
   "execution_count": 8,
   "metadata": {},
   "outputs": [
    {
     "ename": "MethodError",
     "evalue": "MethodError: no method matching -(::Int64, ::CartesianIndex{2})\nClosest candidates are:\n  -(::Union{Int128, Int16, Int32, Int64, Int8, UInt128, UInt16, UInt32, UInt64, UInt8}) at int.jl:85\n  -(::T, !Matched::T) where T<:Union{Int128, Int16, Int32, Int64, Int8, UInt128, UInt16, UInt32, UInt64, UInt8} at int.jl:86\n  -(::Union{Int16, Int32, Int64, Int8}, !Matched::BigInt) at gmp.jl:539\n  ...",
     "output_type": "error",
     "traceback": [
      "MethodError: no method matching -(::Int64, ::CartesianIndex{2})\n",
      "Closest candidates are:\n",
      "  -(::Union{Int128, Int16, Int32, Int64, Int8, UInt128, UInt16, UInt32, UInt64, UInt8}) at int.jl:85\n",
      "  -(::T, !Matched::T) where T<:Union{Int128, Int16, Int32, Int64, Int8, UInt128, UInt16, UInt32, UInt64, UInt8} at int.jl:86\n",
      "  -(::Union{Int16, Int32, Int64, Int8}, !Matched::BigInt) at gmp.jl:539\n",
      "  ...\n",
      "\n",
      "Stacktrace:\n",
      " [1] top-level scope\n",
      "   @ ~/Documents/20 - TEACHING/EDP-MAM4/Travail TP/2022/TP1/TP1_Partie2_Mbarek_Thomas_Maurel.ipynb:8"
     ]
    }
   ],
   "source": [
    "# Comparison with exact solution (computed convoluting with Gaussian kernel)\n",
    "us = zeros(Nx+1)\n",
    "ker = exp.( -((0:Nx)*Δx).^2 / (4*Nt*Δt) )\n",
    "kmax = findall(x -> x < 1e-14, ker)\n",
    "kmax = length(kmax) > 0 ? kmax[1] : error(\"Increase Nx\")\n",
    "\n",
    "for j = 1:(Nx+1)\n",
    "    jmin = max(1, j-kmax)\n",
    "    jmax = min(Nx+1, j+kmax)\n",
    "    us[j] = Δx * sum( u0[jmin:jmax].*ker[1 .+ abs.(j.-(jmin:jmax))] ) / sqrt(4*π*Nt*Δt)\n",
    "end\n",
    "\n",
    "err = us-u\n",
    "us_plot = plot(x, us, xlabel=\"x\", ylabel=\"us\", color=:red, label=\"Solution\", lw=6)\n",
    "plot!(us_plot, x, u, xlabel=\"x\", ylabel=\"u\", color=:black, label=\"Finite differences\", lw=2)\n",
    "err_plot = plot(x, err, xlabel=\"x\", ylabel=\"us-u\", legend=false)\n",
    "display(plot(us_plot, err_plot, layout=(2, 1), size=(700, 700)))\n",
    "println(\"Δx: \", Δx, \"\\t Δt:\", Δt, \"\\t max error: \", maximum(abs.(err)))"
   ]
  },
  {
   "cell_type": "code",
   "execution_count": 7,
   "metadata": {},
   "outputs": [
    {
     "ename": "ErrorException",
     "evalue": "Cannot convert Float64 to series data for plotting",
     "output_type": "error",
     "traceback": [
      "Cannot convert Float64 to series data for plotting\n",
      "\n",
      "Stacktrace:\n",
      "  [1] error(s::String)\n",
      "    @ Base ./error.jl:35\n",
      "  [2] _prepare_series_data(x::Float64)\n",
      "    @ RecipesPipeline ~/.julia/packages/RecipesPipeline/XxUHt/src/series.jl:8\n",
      "  [3] _series_data_vector(x::Float64, plotattributes::Dict{Symbol, Any})\n",
      "    @ RecipesPipeline ~/.julia/packages/RecipesPipeline/XxUHt/src/series.jl:36\n",
      "  [4] macro expansion\n",
      "    @ ~/.julia/packages/RecipesPipeline/XxUHt/src/series.jl:128 [inlined]\n",
      "  [5] apply_recipe(plotattributes::AbstractDict{Symbol, Any}, #unused#::Type{RecipesPipeline.SliceIt}, x::Any, y::Any, z::Any)\n",
      "    @ RecipesPipeline ~/.julia/packages/RecipesBase/6AijY/src/RecipesBase.jl:299\n",
      "  [6] _process_userrecipes!(plt::Any, plotattributes::Any, args::Any)\n",
      "    @ RecipesPipeline ~/.julia/packages/RecipesPipeline/XxUHt/src/user_recipe.jl:38\n",
      "  [7] recipe_pipeline!(plt::Any, plotattributes::Any, args::Any)\n",
      "    @ RecipesPipeline ~/.julia/packages/RecipesPipeline/XxUHt/src/RecipesPipeline.jl:72\n",
      "  [8] _plot!(plt::Plots.Plot, plotattributes::Any, args::Any)\n",
      "    @ Plots ~/.julia/packages/Plots/YbrTT/src/plot.jl:223\n",
      "  [9] #plot#182\n",
      "    @ ~/.julia/packages/Plots/YbrTT/src/plot.jl:102 [inlined]\n",
      " [10] top-level scope\n",
      "    @ ~/Documents/20 - TEACHING/EDP-MAM4/Travail TP/2022/TP1/TP1_Partie2_Mbarek_Thomas_Maurel.ipynb:4"
     ]
    }
   ],
   "source": [
    "# Precision test\n",
    "Δx = [ 0.01,0.005,0.0025,0.000125 ]\n",
    "errx = [ 0.001993374564768474,0.0014080889491761006, 0.0009936269970872713,0.00020905535329049374]\n",
    "plot(Δx, errx, xaxis=:log, yaxis=:log, marker=:dot, xlabel=\"Δt\", label=\"error\")\n",
    "plot!(Δx, Δx.^2, xaxis=:log, yaxis=:log, marker=:dot, xlabel=\"Δt\", label=\"Δt^2\")"
   ]
  },
  {
   "cell_type": "markdown",
   "metadata": {},
   "source": [
    "θ = 1/2"
   ]
  },
  {
   "cell_type": "code",
   "execution_count": 86,
   "metadata": {},
   "outputs": [
    {
     "data": {
      "image/svg+xml": "<?xml version=\"1.0\" encoding=\"utf-8\"?>\n<svg xmlns=\"http://www.w3.org/2000/svg\" xmlns:xlink=\"http://www.w3.org/1999/xlink\" width=\"600\" height=\"400\" viewBox=\"0 0 2400 1600\">\n<defs>\n  <clipPath id=\"clip910\">\n    <rect x=\"0\" y=\"0\" width=\"2400\" height=\"1600\"/>\n  </clipPath>\n</defs>\n<path clip-path=\"url(#clip910)\" d=\"\nM0 1600 L2400 1600 L2400 0 L0 0  Z\n  \" fill=\"#ffffff\" fill-rule=\"evenodd\" fill-opacity=\"1\"/>\n<defs>\n  <clipPath id=\"clip911\">\n    <rect x=\"480\" y=\"0\" width=\"1681\" height=\"1600\"/>\n  </clipPath>\n</defs>\n<path clip-path=\"url(#clip910)\" d=\"\nM189.496 1410.9 L2352.76 1410.9 L2352.76 47.2441 L189.496 47.2441  Z\n  \" fill=\"#ffffff\" fill-rule=\"evenodd\" fill-opacity=\"1\"/>\n<defs>\n  <clipPath id=\"clip912\">\n    <rect x=\"189\" y=\"47\" width=\"2164\" height=\"1365\"/>\n  </clipPath>\n</defs>\n<polyline clip-path=\"url(#clip912)\" style=\"stroke:#000000; stroke-linecap:round; stroke-linejoin:round; stroke-width:2; stroke-opacity:0.1; fill:none\" points=\"\n  1161.63,1410.9 1161.63,47.2441 \n  \"/>\n<polyline clip-path=\"url(#clip912)\" style=\"stroke:#000000; stroke-linecap:round; stroke-linejoin:round; stroke-width:2; stroke-opacity:0.1; fill:none\" points=\"\n  2291.53,1410.9 2291.53,47.2441 \n  \"/>\n<polyline clip-path=\"url(#clip910)\" style=\"stroke:#000000; stroke-linecap:round; stroke-linejoin:round; stroke-width:4; stroke-opacity:1; fill:none\" points=\"\n  189.496,1410.9 2352.76,1410.9 \n  \"/>\n<polyline clip-path=\"url(#clip910)\" style=\"stroke:#000000; stroke-linecap:round; stroke-linejoin:round; stroke-width:4; stroke-opacity:1; fill:none\" points=\"\n  1161.63,1410.9 1161.63,1392 \n  \"/>\n<polyline clip-path=\"url(#clip910)\" style=\"stroke:#000000; stroke-linecap:round; stroke-linejoin:round; stroke-width:4; stroke-opacity:1; fill:none\" points=\"\n  2291.53,1410.9 2291.53,1392 \n  \"/>\n<path clip-path=\"url(#clip910)\" d=\"M1093.27 1485.02 L1100.91 1485.02 L1100.91 1458.66 L1092.6 1460.32 L1092.6 1456.06 L1100.87 1454.4 L1105.54 1454.4 L1105.54 1485.02 L1113.18 1485.02 L1113.18 1488.96 L1093.27 1488.96 L1093.27 1485.02 Z\" fill=\"#000000\" fill-rule=\"evenodd\" fill-opacity=\"1\" /><path clip-path=\"url(#clip910)\" d=\"M1132.62 1457.48 Q1129.01 1457.48 1127.18 1461.04 Q1125.38 1464.58 1125.38 1471.71 Q1125.38 1478.82 1127.18 1482.38 Q1129.01 1485.92 1132.62 1485.92 Q1136.26 1485.92 1138.06 1482.38 Q1139.89 1478.82 1139.89 1471.71 Q1139.89 1464.58 1138.06 1461.04 Q1136.26 1457.48 1132.62 1457.48 M1132.62 1453.77 Q1138.43 1453.77 1141.49 1458.38 Q1144.57 1462.96 1144.57 1471.71 Q1144.57 1480.44 1141.49 1485.04 Q1138.43 1489.63 1132.62 1489.63 Q1126.81 1489.63 1123.74 1485.04 Q1120.68 1480.44 1120.68 1471.71 Q1120.68 1462.96 1123.74 1458.38 Q1126.81 1453.77 1132.62 1453.77 Z\" fill=\"#000000\" fill-rule=\"evenodd\" fill-opacity=\"1\" /><path clip-path=\"url(#clip910)\" d=\"M1144.57 1447.87 L1168.68 1447.87 L1168.68 1451.07 L1144.57 1451.07 L1144.57 1447.87 Z\" fill=\"#000000\" fill-rule=\"evenodd\" fill-opacity=\"1\" /><path clip-path=\"url(#clip910)\" d=\"M1180.15 1458.35 L1193.41 1458.35 L1193.41 1461.55 L1175.58 1461.55 L1175.58 1458.35 Q1177.75 1456.11 1181.47 1452.35 Q1185.21 1448.57 1186.17 1447.48 Q1188 1445.43 1188.71 1444.02 Q1189.44 1442.59 1189.44 1441.22 Q1189.44 1438.98 1187.86 1437.57 Q1186.3 1436.16 1183.78 1436.16 Q1182 1436.16 1180 1436.78 Q1178.03 1437.4 1175.77 1438.66 L1175.77 1434.82 Q1178.07 1433.9 1180.06 1433.43 Q1182.05 1432.96 1183.71 1432.96 Q1188.07 1432.96 1190.67 1435.14 Q1193.26 1437.32 1193.26 1440.97 Q1193.26 1442.7 1192.6 1444.26 Q1191.96 1445.8 1190.25 1447.91 Q1189.78 1448.46 1187.26 1451.07 Q1184.74 1453.67 1180.15 1458.35 Z\" fill=\"#000000\" fill-rule=\"evenodd\" fill-opacity=\"1\" /><path clip-path=\"url(#clip910)\" d=\"M1201.39 1456.77 L1205.36 1456.77 L1205.36 1461.55 L1201.39 1461.55 L1201.39 1456.77 Z\" fill=\"#000000\" fill-rule=\"evenodd\" fill-opacity=\"1\" /><path clip-path=\"url(#clip910)\" d=\"M1213.67 1433.47 L1228.58 1433.47 L1228.58 1436.66 L1217.15 1436.66 L1217.15 1443.55 Q1217.98 1443.27 1218.8 1443.13 Q1219.63 1442.98 1220.46 1442.98 Q1225.16 1442.98 1227.91 1445.56 Q1230.65 1448.14 1230.65 1452.54 Q1230.65 1457.07 1227.83 1459.59 Q1225.01 1462.09 1219.88 1462.09 Q1218.11 1462.09 1216.26 1461.79 Q1214.44 1461.49 1212.48 1460.89 L1212.48 1457.07 Q1214.18 1457.99 1215.98 1458.44 Q1217.79 1458.89 1219.8 1458.89 Q1223.05 1458.89 1224.95 1457.18 Q1226.85 1455.47 1226.85 1452.54 Q1226.85 1449.6 1224.95 1447.89 Q1223.05 1446.18 1219.8 1446.18 Q1218.28 1446.18 1216.75 1446.52 Q1215.25 1446.86 1213.67 1447.57 L1213.67 1433.47 Z\" fill=\"#000000\" fill-rule=\"evenodd\" fill-opacity=\"1\" /><path clip-path=\"url(#clip910)\" d=\"M2222.77 1485.02 L2230.41 1485.02 L2230.41 1458.66 L2222.1 1460.32 L2222.1 1456.06 L2230.37 1454.4 L2235.04 1454.4 L2235.04 1485.02 L2242.68 1485.02 L2242.68 1488.96 L2222.77 1488.96 L2222.77 1485.02 Z\" fill=\"#000000\" fill-rule=\"evenodd\" fill-opacity=\"1\" /><path clip-path=\"url(#clip910)\" d=\"M2262.12 1457.48 Q2258.51 1457.48 2256.69 1461.04 Q2254.88 1464.58 2254.88 1471.71 Q2254.88 1478.82 2256.69 1482.38 Q2258.51 1485.92 2262.12 1485.92 Q2265.76 1485.92 2267.56 1482.38 Q2269.39 1478.82 2269.39 1471.71 Q2269.39 1464.58 2267.56 1461.04 Q2265.76 1457.48 2262.12 1457.48 M2262.12 1453.77 Q2267.94 1453.77 2270.99 1458.38 Q2274.07 1462.96 2274.07 1471.71 Q2274.07 1480.44 2270.99 1485.04 Q2267.94 1489.63 2262.12 1489.63 Q2256.31 1489.63 2253.24 1485.04 Q2250.18 1480.44 2250.18 1471.71 Q2250.18 1462.96 2253.24 1458.38 Q2256.31 1453.77 2262.12 1453.77 Z\" fill=\"#000000\" fill-rule=\"evenodd\" fill-opacity=\"1\" /><path clip-path=\"url(#clip910)\" d=\"M2274.07 1447.87 L2298.18 1447.87 L2298.18 1451.07 L2274.07 1451.07 L2274.07 1447.87 Z\" fill=\"#000000\" fill-rule=\"evenodd\" fill-opacity=\"1\" /><path clip-path=\"url(#clip910)\" d=\"M2309.65 1458.35 L2322.91 1458.35 L2322.91 1461.55 L2305.08 1461.55 L2305.08 1458.35 Q2307.25 1456.11 2310.97 1452.35 Q2314.71 1448.57 2315.67 1447.48 Q2317.5 1445.43 2318.21 1444.02 Q2318.94 1442.59 2318.94 1441.22 Q2318.94 1438.98 2317.36 1437.57 Q2315.8 1436.16 2313.28 1436.16 Q2311.5 1436.16 2309.5 1436.78 Q2307.53 1437.4 2305.27 1438.66 L2305.27 1434.82 Q2307.57 1433.9 2309.56 1433.43 Q2311.55 1432.96 2313.21 1432.96 Q2317.57 1432.96 2320.17 1435.14 Q2322.76 1437.32 2322.76 1440.97 Q2322.76 1442.7 2322.1 1444.26 Q2321.46 1445.8 2319.75 1447.91 Q2319.28 1448.46 2316.76 1451.07 Q2314.24 1453.67 2309.65 1458.35 Z\" fill=\"#000000\" fill-rule=\"evenodd\" fill-opacity=\"1\" /><path clip-path=\"url(#clip910)\" d=\"M2330.89 1456.77 L2334.86 1456.77 L2334.86 1461.55 L2330.89 1461.55 L2330.89 1456.77 Z\" fill=\"#000000\" fill-rule=\"evenodd\" fill-opacity=\"1\" /><path clip-path=\"url(#clip910)\" d=\"M2351.26 1435.97 Q2348.32 1435.97 2346.84 1438.86 Q2345.37 1441.74 2345.37 1447.53 Q2345.37 1453.31 2346.84 1456.2 Q2348.32 1459.08 2351.26 1459.08 Q2354.21 1459.08 2355.68 1456.2 Q2357.16 1453.31 2357.16 1447.53 Q2357.16 1441.74 2355.68 1438.86 Q2354.21 1435.97 2351.26 1435.97 M2351.26 1432.96 Q2355.98 1432.96 2358.46 1436.7 Q2360.96 1440.43 2360.96 1447.53 Q2360.96 1454.62 2358.46 1458.37 Q2355.98 1462.09 2351.26 1462.09 Q2346.54 1462.09 2344.03 1458.37 Q2341.55 1454.62 2341.55 1447.53 Q2341.55 1440.43 2344.03 1436.7 Q2346.54 1432.96 2351.26 1432.96 Z\" fill=\"#000000\" fill-rule=\"evenodd\" fill-opacity=\"1\" /><path clip-path=\"url(#clip910)\" d=\"M1258.86 1533 L1245.81 1568.84 L1271.94 1568.84 L1258.86 1533 M1237.09 1574.19 L1255.23 1526.67 L1262.52 1526.67 L1280.63 1574.19 L1237.09 1574.19 Z\" fill=\"#000000\" fill-rule=\"evenodd\" fill-opacity=\"1\" /><path clip-path=\"url(#clip910)\" d=\"M1293.1 1528.42 L1293.1 1538.54 L1305.17 1538.54 L1305.17 1543.09 L1293.1 1543.09 L1293.1 1562.44 Q1293.1 1566.8 1294.28 1568.04 Q1295.49 1569.28 1299.15 1569.28 L1305.17 1569.28 L1305.17 1574.19 L1299.15 1574.19 Q1292.37 1574.19 1289.79 1571.67 Q1287.22 1569.12 1287.22 1562.44 L1287.22 1543.09 L1282.92 1543.09 L1282.92 1538.54 L1287.22 1538.54 L1287.22 1528.42 L1293.1 1528.42 Z\" fill=\"#000000\" fill-rule=\"evenodd\" fill-opacity=\"1\" /><polyline clip-path=\"url(#clip912)\" style=\"stroke:#000000; stroke-linecap:round; stroke-linejoin:round; stroke-width:2; stroke-opacity:0.1; fill:none\" points=\"\n  189.496,918.581 2352.76,918.581 \n  \"/>\n<polyline clip-path=\"url(#clip912)\" style=\"stroke:#000000; stroke-linecap:round; stroke-linejoin:round; stroke-width:2; stroke-opacity:0.1; fill:none\" points=\"\n  189.496,355.776 2352.76,355.776 \n  \"/>\n<polyline clip-path=\"url(#clip910)\" style=\"stroke:#000000; stroke-linecap:round; stroke-linejoin:round; stroke-width:4; stroke-opacity:1; fill:none\" points=\"\n  189.496,1410.9 189.496,47.2441 \n  \"/>\n<polyline clip-path=\"url(#clip910)\" style=\"stroke:#000000; stroke-linecap:round; stroke-linejoin:round; stroke-width:4; stroke-opacity:1; fill:none\" points=\"\n  189.496,918.581 208.394,918.581 \n  \"/>\n<polyline clip-path=\"url(#clip910)\" style=\"stroke:#000000; stroke-linecap:round; stroke-linejoin:round; stroke-width:4; stroke-opacity:1; fill:none\" points=\"\n  189.496,355.776 208.394,355.776 \n  \"/>\n<path clip-path=\"url(#clip910)\" d=\"M52.8671 938.373 L60.506 938.373 L60.506 912.008 L52.1958 913.674 L52.1958 909.415 L60.4597 907.748 L65.1356 907.748 L65.1356 938.373 L72.7744 938.373 L72.7744 942.308 L52.8671 942.308 L52.8671 938.373 Z\" fill=\"#000000\" fill-rule=\"evenodd\" fill-opacity=\"1\" /><path clip-path=\"url(#clip910)\" d=\"M92.2188 910.827 Q88.6077 910.827 86.779 914.392 Q84.9734 917.934 84.9734 925.063 Q84.9734 932.17 86.779 935.734 Q88.6077 939.276 92.2188 939.276 Q95.853 939.276 97.6585 935.734 Q99.4872 932.17 99.4872 925.063 Q99.4872 917.934 97.6585 914.392 Q95.853 910.827 92.2188 910.827 M92.2188 907.123 Q98.0289 907.123 101.084 911.73 Q104.163 916.313 104.163 925.063 Q104.163 933.79 101.084 938.396 Q98.0289 942.98 92.2188 942.98 Q86.4086 942.98 83.3299 938.396 Q80.2744 933.79 80.2744 925.063 Q80.2744 916.313 83.3299 911.73 Q86.4086 907.123 92.2188 907.123 Z\" fill=\"#000000\" fill-rule=\"evenodd\" fill-opacity=\"1\" /><path clip-path=\"url(#clip910)\" d=\"M104.163 901.225 L128.275 901.225 L128.275 904.422 L104.163 904.422 L104.163 901.225 Z\" fill=\"#000000\" fill-rule=\"evenodd\" fill-opacity=\"1\" /><path clip-path=\"url(#clip910)\" d=\"M136.513 886.818 L151.427 886.818 L151.427 890.015 L139.992 890.015 L139.992 896.899 Q140.819 896.617 141.647 896.485 Q142.475 896.335 143.302 896.335 Q148.004 896.335 150.75 898.911 Q153.496 901.488 153.496 905.889 Q153.496 910.422 150.675 912.942 Q147.854 915.443 142.719 915.443 Q140.951 915.443 139.108 915.143 Q137.284 914.842 135.328 914.24 L135.328 910.422 Q137.02 911.343 138.826 911.795 Q140.631 912.246 142.644 912.246 Q145.898 912.246 147.797 910.535 Q149.697 908.823 149.697 905.889 Q149.697 902.955 147.797 901.244 Q145.898 899.532 142.644 899.532 Q141.12 899.532 139.597 899.871 Q138.092 900.209 136.513 900.924 L136.513 886.818 Z\" fill=\"#000000\" fill-rule=\"evenodd\" fill-opacity=\"1\" /><path clip-path=\"url(#clip910)\" d=\"M51.6634 375.569 L59.3023 375.569 L59.3023 349.203 L50.9921 350.87 L50.9921 346.61 L59.256 344.944 L63.9319 344.944 L63.9319 375.569 L71.5707 375.569 L71.5707 379.504 L51.6634 379.504 L51.6634 375.569 Z\" fill=\"#000000\" fill-rule=\"evenodd\" fill-opacity=\"1\" /><path clip-path=\"url(#clip910)\" d=\"M91.0151 348.022 Q87.404 348.022 85.5753 351.587 Q83.7697 355.129 83.7697 362.258 Q83.7697 369.365 85.5753 372.93 Q87.404 376.471 91.0151 376.471 Q94.6493 376.471 96.4548 372.93 Q98.2835 369.365 98.2835 362.258 Q98.2835 355.129 96.4548 351.587 Q94.6493 348.022 91.0151 348.022 M91.0151 344.319 Q96.8252 344.319 99.8808 348.925 Q102.959 353.508 102.959 362.258 Q102.959 370.985 99.8808 375.592 Q96.8252 380.175 91.0151 380.175 Q85.2049 380.175 82.1262 375.592 Q79.0707 370.985 79.0707 362.258 Q79.0707 353.508 82.1262 348.925 Q85.2049 344.319 91.0151 344.319 Z\" fill=\"#000000\" fill-rule=\"evenodd\" fill-opacity=\"1\" /><path clip-path=\"url(#clip910)\" d=\"M102.959 338.42 L127.071 338.42 L127.071 341.617 L102.959 341.617 L102.959 338.42 Z\" fill=\"#000000\" fill-rule=\"evenodd\" fill-opacity=\"1\" /><path clip-path=\"url(#clip910)\" d=\"M145.71 327.323 L136.118 342.313 L145.71 342.313 L145.71 327.323 M144.713 324.013 L149.49 324.013 L149.49 342.313 L153.496 342.313 L153.496 345.473 L149.49 345.473 L149.49 352.093 L145.71 352.093 L145.71 345.473 L133.033 345.473 L133.033 341.805 L144.713 324.013 Z\" fill=\"#000000\" fill-rule=\"evenodd\" fill-opacity=\"1\" /><polyline clip-path=\"url(#clip912)\" style=\"stroke:#009af9; stroke-linecap:round; stroke-linejoin:round; stroke-width:4; stroke-opacity:1; fill:none\" points=\"\n  2291.53,163.507 1611.26,109.385 930.991,85.838 250.72,123.399 \n  \"/>\n<circle clip-path=\"url(#clip912)\" cx=\"2291.53\" cy=\"163.507\" r=\"14.4\" fill=\"#009af9\" fill-rule=\"evenodd\" fill-opacity=\"1\" stroke=\"#000000\" stroke-opacity=\"1\" stroke-width=\"3.2\"/>\n<circle clip-path=\"url(#clip912)\" cx=\"1611.26\" cy=\"109.385\" r=\"14.4\" fill=\"#009af9\" fill-rule=\"evenodd\" fill-opacity=\"1\" stroke=\"#000000\" stroke-opacity=\"1\" stroke-width=\"3.2\"/>\n<circle clip-path=\"url(#clip912)\" cx=\"930.991\" cy=\"85.838\" r=\"14.4\" fill=\"#009af9\" fill-rule=\"evenodd\" fill-opacity=\"1\" stroke=\"#000000\" stroke-opacity=\"1\" stroke-width=\"3.2\"/>\n<circle clip-path=\"url(#clip912)\" cx=\"250.72\" cy=\"123.399\" r=\"14.4\" fill=\"#009af9\" fill-rule=\"evenodd\" fill-opacity=\"1\" stroke=\"#000000\" stroke-opacity=\"1\" stroke-width=\"3.2\"/>\n<polyline clip-path=\"url(#clip912)\" style=\"stroke:#e26f46; stroke-linecap:round; stroke-linejoin:round; stroke-width:4; stroke-opacity:1; fill:none\" points=\"\n  2291.53,355.776 1611.26,694.618 930.991,1033.46 250.72,1372.3 \n  \"/>\n<circle clip-path=\"url(#clip912)\" cx=\"2291.53\" cy=\"355.776\" r=\"14.4\" fill=\"#e26f46\" fill-rule=\"evenodd\" fill-opacity=\"1\" stroke=\"#000000\" stroke-opacity=\"1\" stroke-width=\"3.2\"/>\n<circle clip-path=\"url(#clip912)\" cx=\"1611.26\" cy=\"694.618\" r=\"14.4\" fill=\"#e26f46\" fill-rule=\"evenodd\" fill-opacity=\"1\" stroke=\"#000000\" stroke-opacity=\"1\" stroke-width=\"3.2\"/>\n<circle clip-path=\"url(#clip912)\" cx=\"930.991\" cy=\"1033.46\" r=\"14.4\" fill=\"#e26f46\" fill-rule=\"evenodd\" fill-opacity=\"1\" stroke=\"#000000\" stroke-opacity=\"1\" stroke-width=\"3.2\"/>\n<circle clip-path=\"url(#clip912)\" cx=\"250.72\" cy=\"1372.3\" r=\"14.4\" fill=\"#e26f46\" fill-rule=\"evenodd\" fill-opacity=\"1\" stroke=\"#000000\" stroke-opacity=\"1\" stroke-width=\"3.2\"/>\n<path clip-path=\"url(#clip910)\" d=\"\nM1924.5 248.219 L2280.65 248.219 L2280.65 92.6992 L1924.5 92.6992  Z\n  \" fill=\"#ffffff\" fill-rule=\"evenodd\" fill-opacity=\"1\"/>\n<polyline clip-path=\"url(#clip910)\" style=\"stroke:#000000; stroke-linecap:round; stroke-linejoin:round; stroke-width:4; stroke-opacity:1; fill:none\" points=\"\n  1924.5,248.219 2280.65,248.219 2280.65,92.6992 1924.5,92.6992 1924.5,248.219 \n  \"/>\n<polyline clip-path=\"url(#clip910)\" style=\"stroke:#009af9; stroke-linecap:round; stroke-linejoin:round; stroke-width:4; stroke-opacity:1; fill:none\" points=\"\n  1948.53,144.539 2092.75,144.539 \n  \"/>\n<circle clip-path=\"url(#clip910)\" cx=\"2020.64\" cy=\"144.539\" r=\"20.0302\" fill=\"#009af9\" fill-rule=\"evenodd\" fill-opacity=\"1\" stroke=\"#000000\" stroke-opacity=\"1\" stroke-width=\"5.12\"/>\n<path clip-path=\"url(#clip910)\" d=\"M2140.82 147.791 L2140.82 149.875 L2121.23 149.875 Q2121.51 154.273 2123.87 156.588 Q2126.26 158.879 2130.49 158.879 Q2132.95 158.879 2135.24 158.278 Q2137.55 157.676 2139.82 156.472 L2139.82 160.5 Q2137.53 161.472 2135.12 161.981 Q2132.71 162.49 2130.24 162.49 Q2124.03 162.49 2120.4 158.879 Q2116.79 155.268 2116.79 149.111 Q2116.79 142.745 2120.21 139.018 Q2123.66 135.268 2129.5 135.268 Q2134.73 135.268 2137.76 138.648 Q2140.82 142.004 2140.82 147.791 M2136.56 146.541 Q2136.51 143.046 2134.59 140.963 Q2132.69 138.879 2129.54 138.879 Q2125.98 138.879 2123.83 140.893 Q2121.7 142.907 2121.37 146.565 L2136.56 146.541 Z\" fill=\"#000000\" fill-rule=\"evenodd\" fill-opacity=\"1\" /><path clip-path=\"url(#clip910)\" d=\"M2162.83 139.875 Q2162.11 139.458 2161.26 139.273 Q2160.42 139.065 2159.4 139.065 Q2155.79 139.065 2153.85 141.426 Q2151.93 143.764 2151.93 148.162 L2151.93 161.819 L2147.64 161.819 L2147.64 135.893 L2151.93 135.893 L2151.93 139.921 Q2153.27 137.56 2155.42 136.426 Q2157.58 135.268 2160.65 135.268 Q2161.09 135.268 2161.63 135.338 Q2162.16 135.384 2162.81 135.5 L2162.83 139.875 Z\" fill=\"#000000\" fill-rule=\"evenodd\" fill-opacity=\"1\" /><path clip-path=\"url(#clip910)\" d=\"M2181.49 139.875 Q2180.77 139.458 2179.91 139.273 Q2179.08 139.065 2178.06 139.065 Q2174.45 139.065 2172.51 141.426 Q2170.58 143.764 2170.58 148.162 L2170.58 161.819 L2166.3 161.819 L2166.3 135.893 L2170.58 135.893 L2170.58 139.921 Q2171.93 137.56 2174.08 136.426 Q2176.23 135.268 2179.31 135.268 Q2179.75 135.268 2180.28 135.338 Q2180.82 135.384 2181.46 135.5 L2181.49 139.875 Z\" fill=\"#000000\" fill-rule=\"evenodd\" fill-opacity=\"1\" /><path clip-path=\"url(#clip910)\" d=\"M2194.96 138.879 Q2191.53 138.879 2189.54 141.565 Q2187.55 144.227 2187.55 148.879 Q2187.55 153.532 2189.52 156.217 Q2191.51 158.879 2194.96 158.879 Q2198.36 158.879 2200.35 156.194 Q2202.34 153.509 2202.34 148.879 Q2202.34 144.273 2200.35 141.588 Q2198.36 138.879 2194.96 138.879 M2194.96 135.268 Q2200.51 135.268 2203.69 138.879 Q2206.86 142.491 2206.86 148.879 Q2206.86 155.245 2203.69 158.879 Q2200.51 162.49 2194.96 162.49 Q2189.38 162.49 2186.21 158.879 Q2183.06 155.245 2183.06 148.879 Q2183.06 142.491 2186.21 138.879 Q2189.38 135.268 2194.96 135.268 Z\" fill=\"#000000\" fill-rule=\"evenodd\" fill-opacity=\"1\" /><path clip-path=\"url(#clip910)\" d=\"M2228.94 139.875 Q2228.22 139.458 2227.37 139.273 Q2226.53 139.065 2225.51 139.065 Q2221.9 139.065 2219.96 141.426 Q2218.04 143.764 2218.04 148.162 L2218.04 161.819 L2213.76 161.819 L2213.76 135.893 L2218.04 135.893 L2218.04 139.921 Q2219.38 137.56 2221.53 136.426 Q2223.69 135.268 2226.76 135.268 Q2227.2 135.268 2227.74 135.338 Q2228.27 135.384 2228.92 135.5 L2228.94 139.875 Z\" fill=\"#000000\" fill-rule=\"evenodd\" fill-opacity=\"1\" /><polyline clip-path=\"url(#clip910)\" style=\"stroke:#e26f46; stroke-linecap:round; stroke-linejoin:round; stroke-width:4; stroke-opacity:1; fill:none\" points=\"\n  1948.53,196.379 2092.75,196.379 \n  \"/>\n<circle clip-path=\"url(#clip910)\" cx=\"2020.64\" cy=\"196.379\" r=\"20.0302\" fill=\"#e26f46\" fill-rule=\"evenodd\" fill-opacity=\"1\" stroke=\"#000000\" stroke-opacity=\"1\" stroke-width=\"5.12\"/>\n<path clip-path=\"url(#clip910)\" d=\"M2132.62 183.706 L2123.13 209.77 L2142.14 209.77 L2132.62 183.706 M2116.79 213.659 L2129.98 179.099 L2135.28 179.099 L2148.45 213.659 L2116.79 213.659 Z\" fill=\"#000000\" fill-rule=\"evenodd\" fill-opacity=\"1\" /><path clip-path=\"url(#clip910)\" d=\"M2157.53 180.372 L2157.53 187.733 L2166.3 187.733 L2166.3 191.044 L2157.53 191.044 L2157.53 205.118 Q2157.53 208.289 2158.39 209.192 Q2159.27 210.094 2161.93 210.094 L2166.3 210.094 L2166.3 213.659 L2161.93 213.659 Q2157 213.659 2155.12 211.83 Q2153.25 209.979 2153.25 205.118 L2153.25 191.044 L2150.12 191.044 L2150.12 187.733 L2153.25 187.733 L2153.25 180.372 L2157.53 180.372 Z\" fill=\"#000000\" fill-rule=\"evenodd\" fill-opacity=\"1\" /><path clip-path=\"url(#clip910)\" d=\"M2189.57 179.099 L2202.14 191.993 L2197.48 191.993 L2187.3 182.849 L2177.11 191.993 L2172.46 191.993 L2185.03 179.099 L2189.57 179.099 Z\" fill=\"#000000\" fill-rule=\"evenodd\" fill-opacity=\"1\" /><path clip-path=\"url(#clip910)\" d=\"M2216.26 209.724 L2232.57 209.724 L2232.57 213.659 L2210.63 213.659 L2210.63 209.724 Q2213.29 206.969 2217.88 202.34 Q2222.48 197.687 2223.66 196.344 Q2225.91 193.821 2226.79 192.085 Q2227.69 190.326 2227.69 188.636 Q2227.69 185.882 2225.75 184.145 Q2223.82 182.409 2220.72 182.409 Q2218.52 182.409 2216.07 183.173 Q2213.64 183.937 2210.86 185.488 L2210.86 180.766 Q2213.69 179.632 2216.14 179.053 Q2218.59 178.474 2220.63 178.474 Q2226 178.474 2229.2 181.159 Q2232.39 183.845 2232.39 188.335 Q2232.39 190.465 2231.58 192.386 Q2230.79 194.284 2228.69 196.877 Q2228.11 197.548 2225.01 200.766 Q2221.9 203.96 2216.26 209.724 Z\" fill=\"#000000\" fill-rule=\"evenodd\" fill-opacity=\"1\" /></svg>\n"
     },
     "execution_count": 86,
     "metadata": {},
     "output_type": "execute_result"
    }
   ],
   "source": [
    "# Precision test\n",
    "Δt = [ 0.01, 0.005, 0.0025, 0.00125]\n",
    "errx = [ 0.00021959752453604153,0.00027402619738264855,0.000301738035103305,0.0002587565127283309]\n",
    "plot(Δt, errx, xaxis=:log, yaxis=:log, marker=:dot, xlabel=\"Δt\", label=\"error\")\n",
    "plot!(Δt, Δt.^2, xaxis=:log, yaxis=:log, marker=:dot, xlabel=\"Δt\", label=\"Δt^2\")"
   ]
  },
  {
   "cell_type": "markdown",
   "metadata": {},
   "source": [
    "On remarque bien que pour θ = 1/2 la précison est en Δt^2 car les droites sont quasiment paralèle (graphe1) contrairement a \n",
    "θ différent de 1/2 (ex : θ = 3/4 graphe 2)\n",
    "De plus pour θ < 1/2 il faut adapter Δx lorsque l'on change  Δt pour respecter la condition de stabilité ce qui rend l'affichage de \n",
    "précision en fonction de  Δt compliqué."
   ]
  },
  {
   "cell_type": "code",
   "execution_count": null,
   "metadata": {},
   "outputs": [],
   "source": []
  }
 ],
 "metadata": {
  "kernelspec": {
   "display_name": "Julia 1.8.3",
   "language": "julia",
   "name": "julia-1.8"
  },
  "language_info": {
   "file_extension": ".jl",
   "mimetype": "application/julia",
   "name": "julia",
   "version": "1.8.3"
  }
 },
 "nbformat": 4,
 "nbformat_minor": 4
}
