{
 "cells": [
  {
   "cell_type": "markdown",
   "metadata": {},
   "source": [
    "![PNS](http://caillau.perso.math.cnrs.fr/logo-pns.png)\n",
    "## MAM4 - EDP1\n",
    "# TP 2 - Équation d'advection\n",
    "\n",
    "## Exercice 1. Schéma explicite\n",
    "\n",
    "On résout numériquement l'équation d'advection sur $\\Omega:=]0,L[$ avec conditions aux limites périodiques.\n",
    "\n",
    "$$ \\left\\{\\begin{array}{l}\n",
    "\\displaystyle \\frac{\\partial u}{\\partial t}(x,t)+V\\frac{\\partial\n",
    "  u}{\\partial x}(x,t)=0,x\\in\\Omega,\\,t\\ge 0,\\\\\n",
    "\\displaystyle u(x,0)=u_0(x),\\,x\\in \\Omega,\\\\\n",
    "u(0,t)=u(L,t),\\,t\\ge 0.\n",
    "\\end{array}\\right. $$\n",
    "\n",
    "Pour simplifier on a supposé que la donnée initale\n",
    "est périodique de période $L$. On vérifie aisément que la\n",
    "solution exacte est donnée par $u(x,t)=u_0(x-Vt)$.\n",
    "\n",
    "On cherche à approcher numériquement la solution par le schéma *décentré amont* suivant:\n",
    "\n",
    "$$ \\frac{u_j^{n+1}-u_j^n}{\\Delta t}+V\\frac{u_j^n-u_{j-1}^n}{\\Delta x}=0 $$ \n",
    "\n",
    "o\\`u $u_j^n\\cong u(x_j,t_n),\\,0\\le j\\le N$, $\\Delta x=L/N$,\n",
    "$x_j=j\\Delta x$ et $t_n = n\\Delta t$. En réarrangeant les termes, on obtient\n",
    "\n",
    "$$ u_j^{n+1}=u_j^n-\\sigma(u_j^n-u_{j-1}^n) $$\n",
    "\n",
    "o\\`u $\\sigma=\\displaystyle\\frac{V\\Delta t}{\\Delta x}$ est connu sous le nom de [*nombre de Courant*](https://fr.wikipedia.org/wiki/Nombre_de_Courant).\n",
    "Pour approcher la condition initiale et la condition limite on écrit\n",
    "\n",
    "$$ u_j^0=u_0(x_j),\\,0\\le j\\le N,\\, u_0^n = u_N^n,\\,n\\ge 0. $$"
   ]
  },
  {
   "cell_type": "markdown",
   "metadata": {},
   "source": [
    "Augmenter progressivement le paramètre $\\sigma$ et observer le résultat. Quelle est la valeur critique ? Constater aussi en augmentant progressivement `Nt` que la solution numérique est amortie au fil des itérations en temps (phénomène de diffusion numérique)."
   ]
  },
  {
   "cell_type": "code",
   "execution_count": null,
   "metadata": {},
   "outputs": [
    {
     "ename": "",
     "evalue": "",
     "output_type": "error",
     "traceback": [
      "\u001b[1;31mFailed to start the Kernel. \n",
      "\u001b[1;31mView Jupyter <a href='command:jupyter.viewOutput'>log</a> for further details."
     ]
    }
   ],
   "source": [
    "using LinearAlgebra, Plots\n",
    "  \n",
    "# Parameters\n",
    "V = 0.1                                             # advection speed\n",
    "L = 5                                               # domain length\n",
    "Nx = 200                                            # space grid size\n",
    "x = range(0, L, length = Nx+1)                      # space grid\n",
    "Δx = x[2]-x[1]                                      # space stepsize\n",
    "σ = 0.9                                             # Courant number\n",
    "Δt = σ*Δx/V                                         # time stepsize\n",
    "Nt = 45                                             # time grid size     \n",
    "tf = Nt * Δt                                        # final time\n",
    "condinit = x -> Float64.((x.>1.0) .& (x.<1.5))      # characteristic function\n",
    "#condinit = x -> sin.(8*π*x/L)                      # sine pulse\n",
    "u0 = condinit(x)                                    # initial condition\n",
    "\n",
    "# Explicit scheme\n",
    "u = u0\n",
    "for n = 1:Nt\n",
    "    uold = u\n",
    "    u[2:end] = uold[2:end]-σ*(uold[2:end]-uold[1:end-1])\n",
    "    u[1] = u[end]\n",
    "end\n",
    "\n",
    "uexact = condinit(x.-V*tf)\n",
    "err = u - uexact\n",
    "u_plot = plot(x, u, xlabel=\"x\", ylabel=\"u\", color=:red, label=\"Finite differences\", lw=6)\n",
    "plot!(u_plot, x, uexact, xlabel=\"x\", ylabel=\"u\", color=:black, label=\"Solution\", lw=2)\n",
    "err_plot = plot(x, err, xlabel=\"x\", ylabel=\"Error\", legend=false)\n",
    "display(plot(u_plot, err_plot, layout=(2, 1), size=(700, 700)))\n",
    "println(\"Δx: \", Δx, \"\\t Δt:\", Δt, \"\\t max error: \", maximum(abs.(err)))"
   ]
  },
  {
   "cell_type": "markdown",
   "metadata": {},
   "source": [
    "## Exercice 2. Schéma de Lax-Wendroff\n",
    "En suivant le modèle précédent, implémenter le schéma suivant :\n",
    "\n",
    "$$\n",
    "u_j^{n+1}=u_j^n-\\frac{\\sigma}{2}(u_{j+1}^n-u_{j-1}^n)+\\frac{\\sigma^2}{2}(u_{j+1}^n-2u_j^n+u_{j-1}^n).\n",
    "$$\n",
    "\n",
    "Dans ce nouveau script au tout début, à l'intérieur de la boucle en temps on va fixer la condition à un des bords (condition entrante) :"
   ]
  },
  {
   "cell_type": "code",
   "execution_count": 2,
   "metadata": {},
   "outputs": [
    {
     "ename": "LoadError",
     "evalue": "UndefVarError: n not defined",
     "output_type": "error",
     "traceback": [
      "UndefVarError: n not defined",
      "",
      "Stacktrace:",
      " [1] top-level scope",
      "   @ In[2]:1",
      " [2] eval",
      "   @ ./boot.jl:360 [inlined]",
      " [3] include_string(mapexpr::typeof(REPL.softscope), mod::Module, code::String, filename::String)",
      "   @ Base ./loading.jl:1116"
     ]
    }
   ],
   "source": [
    "uexact = condinit(x.-V*(n-1)*Δt)\n",
    "u[end] = uexact[end]"
   ]
  },
  {
   "cell_type": "markdown",
   "metadata": {},
   "source": [
    "Repartir de $\\sigma=0.8$ et essayer 4 possibilités du couple conditions initiale/schéma numérique. \n",
    "\n",
    "- Quelles conditions tirez-vous ?\n",
    "- Augmenter progressivement $\\sigma$ pour le schéma de Lax-Wendroff et observer. \n",
    "- Que peut-on dire de la diffusion numérique observée précédemment dans le cas du schéma décentré ?\n",
    "- Le schéma de Lax-Wendroff est-il diffusif ?"
   ]
  },
  {
   "cell_type": "markdown",
   "metadata": {},
   "source": [
    "## Exercice 3. Schéma de Lax-Wendroff implicite\n",
    "On va changer le schéma comme suit :\n",
    "\n",
    "$$\n",
    "u_j^{n+1}=u_j^n-\\frac{\\sigma}{2}(u_{j+1}^n-u_{j-1}^n)+\\frac{\\sigma^2}{2}(u_{j+1}^{n+1}-2u_j^{n+1}+u_{j-1}^{n+1}).\n",
    "$$ \n",
    "\n",
    "En introduisant $W^n = (u_j^n-\\frac{\\sigma}{2}(u_{j+1}^n-u_{j-1}^n))_j$ et\n",
    "$U^n=(u_j^n)_j$,\n",
    "le schéma s'écrit $AU^{n+1}=W^n$. On pourra utiliser la\n",
    "condition de périodicité directement dans le schéma numérique afin d'éliminer $u_j^N$. On constate que le schéma est implicite : l'évaluation de $U^{n+1}$ à partir\n",
    "de $U^n$ nécessite la résolution d'un système linéaire, et le coût\n",
    "de l'itération sera plus élevé que dans le cas d'un\n",
    "schéma explicite. Cependant le schéma n'est pas limité par la\n",
    "valeur du nombre de Courant $\\sigma$ ce qui permet d'utiliser des\n",
    "pas de temps plus grands et donc de diminuer le nombre d'itérations associé."
   ]
  },
  {
   "cell_type": "markdown",
   "metadata": {},
   "source": [
    "Deux options sont possibles pour la boucle en temps : \n",
    "- soit résoudre le système linéaire à chaque pas de temps (factorisation, pas inversion !)\n",
    "- soit factoriser la matrice $A$ une fois pour toutes avant la boucle (par exemple sous la forme $A=LU$), puis réutiliser cette factorisation.\n",
    "\n",
    "Comparer ces différentes options pour la résolution\n",
    "du systéme linéaire en observant le temps d'execution et en augmentant progressivement la taille du système à résoudre. Réaliser des expériences numériques en\n",
    "faisant varier le nombre de Courant. Discuter les performances relatives des schémas implicite et explicite en termes de temps de calcul."
   ]
  }
 ],
 "metadata": {
  "kernelspec": {
   "display_name": "Julia 1.6.2",
   "language": "julia",
   "name": "julia-1.6"
  },
  "language_info": {
   "file_extension": ".jl",
   "mimetype": "application/julia",
   "name": "julia",
   "version": "1.6.2"
  }
 },
 "nbformat": 4,
 "nbformat_minor": 4
}
